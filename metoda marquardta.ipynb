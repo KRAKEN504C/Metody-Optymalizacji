{
 "cells": [
  {
   "cell_type": "markdown",
   "metadata": {},
   "source": [
    "Algorytm Levenberga-Marquardta\n",
    "1.  Oblicz ∇f(x_i).\n",
    "2.  Oblicz  ̃H(xi).\n",
    "3.  Oblicz\tx_test=x_i− ̃H^(−1)(x_i)∇f(xi).\t\t\t(44)\n",
    "4.  Jezeli f(x_test)> f(x_i), to\n",
    "(a) λ→8λ(mozna tez powiekszac o inny znaczny czynnik).\n",
    "(b)  Id  ́z do punktu 2.\n",
    "5.  Jezeli f(x_test)< f(x_i), to\n",
    "(a) λ→λ/8(mozna tez zmniejszac o inny znaczny czynnik).\n",
    "(b) x_i+1=x_test.\n",
    "(c) Idz do punktu 1."
   ]
  },
  {
   "cell_type": "markdown",
   "metadata": {},
   "source": [
    "1.\tWybierz maksymalną liczbę iteracji M, punkt początkowy oraz parametr zakończenia ε. Ustal k = 0 oraz λ (0) = 10^4 (duża liczba).\n",
    "2.\tOblicz ∇f(x^(k) )\n",
    "3.\tJeśli ||∇f(x^(k) )|| ≤ ε, Zakończ;\n",
    "    Jeśli k ≥ M; Zakończ;\n",
    "    W przeciwnym razie idź do kroku 4).\n",
    "4.\tOblicz x^(k+1) = x^(k) − h ∇2 f(x^(k) ) + λ^(k) I i−1 ∇f(x^(k) )\n",
    "5.\tJeśli f(x^(k+1)) < f(x^(k) ), idź do kroku 6); W przeciwnym przypadku idź do kroku 7).\n",
    "6.\tUstal λ^(k+1) = 1/2 λ^(k) , k = k + 1 i idź do kroku 2).\n",
    "7.\tUstal λ^(k+1) = 2*λ^(k) i idź do kroku 4). \n"
   ]
  },
  {
   "cell_type": "code",
   "execution_count": 1,
   "metadata": {},
   "outputs": [],
   "source": [
    "using Calculus, Optim, LinearAlgebra, ForwardDiff\n"
   ]
  },
  {
   "cell_type": "code",
   "execution_count": 2,
   "metadata": {},
   "outputs": [
    {
     "data": {
      "text/plain": [
       "krok5 (generic function with 1 method)"
      ]
     },
     "execution_count": 2,
     "metadata": {},
     "output_type": "execute_result"
    }
   ],
   "source": [
    "function krok2(funk::Function, x1::Array, k::Number)\n",
    "     Grad = ForwardDiff.gradient(funk,[x1[1]^k,x1[2]^k])\n",
    "end\n",
    "\n",
    "function krok3(Grad::Array,E::Number,k::Number,M::Number)\n",
    "    norma = LinearAlgebra.norm(Grad)\n",
    "        if norma <= E\n",
    "            print(\"norma mniejsz/równa  E\")\n",
    "            return 1\n",
    "        end\n",
    "        if k >= M\n",
    "            print(\"przekroczono limit iteracji\")\n",
    "            return 1\n",
    "        end\n",
    "    return 0\n",
    "end\n",
    "    \n",
    "function krok4(funk::Function, x1::Array, k::Number, lam::Number)\n",
    "    gradient = ForwardDiff.gradient(funk,[x1[1]^k,x1[2]^k])\n",
    "    gradient2 = ForwardDiff.gradient(funk,gradient)\n",
    "    \n",
    "    x1dokplus1 = x1[1]^k - (gradient2[1]+lam^k)^(-1) * gradient[1]\n",
    "    x2dokplus1 = x1[2]^k - (gradient2[2]+lam^k)^(-1) * gradient[2]\n",
    "    \n",
    "    return [x1dokplus1,x2dokplus1]\n",
    "end\n",
    "\n",
    "function krok5(funkx1k1::Number,funkx1k::Number, k::Number, lam::Number)\n",
    "        if funkx1k1 < funkx1k\n",
    "            #krok 6\n",
    "            #lam = 1/2 * lam\n",
    "            #k=k+1\n",
    "            #powrot do kroku 2\n",
    "            return 0\n",
    "        else\n",
    "            #krok 7\n",
    "            #lam = 2 * lam\n",
    "            #powrot do kroku 4\n",
    "            return 1\n",
    "        end\n",
    "end"
   ]
  },
  {
   "cell_type": "code",
   "execution_count": null,
   "metadata": {},
   "outputs": [],
   "source": [
    "function Marquardt(funk::Function, x1::Array)\n",
    "    #krok 1\n",
    "    #global\n",
    "    global M = 100\n",
    "    global k=0\n",
    "    global E=2\n",
    "    global lam=10^4\n",
    "    global tbc=0\n",
    "    \n",
    "    i=0\n",
    "    while i<=100\n",
    "        \n",
    "        #x1dokplus1=krok6(funk,x1)\n",
    "        \n",
    "        @label k2\n",
    "        \n",
    "        #krok 2\n",
    "        Grad = krok2(funk,x1,k)\n",
    "        \n",
    "        #krok 3\n",
    "        tbc = krok3(Grad,E,k,M)\n",
    "        if tbc == 1\n",
    "            return Grad\n",
    "        end\n",
    "            \n",
    "        @label k4\n",
    "        \n",
    "        #krok 4\n",
    "        #x1dokplus1=krok4(funk,x1,k,lam)\n",
    "        x1dokplus1 = ForwardDiff.hessian(funk,x1)\n",
    "        \n",
    "\n",
    "        #krok 5\n",
    "        \n",
    "        \n",
    "        println(x1dokplus1)\n",
    "        \n",
    "        funkx1k1 = funk(x1dokplus1)\n",
    "        funkx1k = funk([x1[1]^k,x1[2]^k])\n",
    "        #wracamy = krok5(funkx1k1,funkx1k,k,lam)\n",
    "        if funkx1k1 < funkx1k\n",
    "            lam = 1/2 * lam\n",
    "            k=k+1\n",
    "            print(\"skok do 2   \")\n",
    "            print(k)\n",
    "            @goto k2\n",
    "        else\n",
    "            lam = 2 * lam\n",
    "            print(\"skok do 4    \")\n",
    "            print(lam)\n",
    "            #@goto k4\n",
    "        end\n",
    "        #=\n",
    "        =#\n",
    "        \n",
    "        i=i+1\n",
    "        k=k+1\n",
    "    end\n",
    "        return \"Wystapil jakis blad. funkcja nigdy nie powinna tu skonczyc\"\n",
    "end"
   ]
  },
  {
   "cell_type": "code",
   "execution_count": null,
   "metadata": {},
   "outputs": [],
   "source": [
    "function losowa(x)\n",
    "   return  x[1]^3+8x[2]\n",
    "end\n",
    "\n",
    "Marquardt(losowa,[121,84])"
   ]
  },
  {
   "cell_type": "code",
   "execution_count": 69,
   "metadata": {},
   "outputs": [
    {
     "data": {
      "text/plain": [
       "2-element Array{Int64,1}:\n",
       "  5\n",
       " 10"
      ]
     },
     "execution_count": 69,
     "metadata": {},
     "output_type": "execute_result"
    }
   ],
   "source": [
    "array=[1,2]\n",
    "\n",
    "array2=array[:]*5"
   ]
  },
  {
   "cell_type": "code",
   "execution_count": null,
   "metadata": {},
   "outputs": [],
   "source": [
    "\n",
    "function zabawa()\n",
    "    global ixsik\n",
    "    ixsik=ixsik+26\n",
    "    print(ixsik)\n",
    "end\n",
    "\n",
    "function testy()\n",
    "    global ixsik=2\n",
    "    zabawa()\n",
    "    return ixsik\n",
    "end\n",
    "\n",
    "testy()"
   ]
  },
  {
   "cell_type": "code",
   "execution_count": 71,
   "metadata": {},
   "outputs": [
    {
     "name": "stdout",
     "output_type": "stream",
     "text": [
      "2"
     ]
    }
   ],
   "source": [
    "function test123()\n",
    "\n",
    "    i=1\n",
    "    while true\n",
    "        i=i+1\n",
    "        print(i)\n",
    "        @goto a\n",
    "    end\n",
    "    \n",
    "@label a \n",
    "end\n",
    "\n",
    "test123()"
   ]
  },
  {
   "cell_type": "code",
   "execution_count": null,
   "metadata": {},
   "outputs": [],
   "source": [
    "function goto_test1()\n",
    "    print(123)\n",
    "    @goto a\n",
    "    print(321)\n",
    "    return false\n",
    "    @label a\n",
    "    print(182)\n",
    "    return true\n",
    "end\n",
    "\n",
    "goto_test1()"
   ]
  },
  {
   "cell_type": "code",
   "execution_count": 18,
   "metadata": {
    "slideshow": {
     "slide_type": ""
    }
   },
   "outputs": [
    {
     "name": "stdout",
     "output_type": "stream",
     "text": [
      "meh1hem"
     ]
    },
    {
     "data": {
      "text/plain": [
       "true"
      ]
     },
     "execution_count": 18,
     "metadata": {},
     "output_type": "execute_result"
    }
   ],
   "source": [
    "function goto_test1()\n",
    "    if 1<2\n",
    "        print(\"meh\")\n",
    "    else\n",
    "    @label b\n",
    "        @goto ab\n",
    "        return true\n",
    "    end\n",
    "    \n",
    "    while true\n",
    "        print(1)\n",
    "        @goto b\n",
    "    end\n",
    "    \n",
    "    @label ab\n",
    "    print(\"hem\")\n",
    "    return true\n",
    "end\n",
    "\n",
    "goto_test1()"
   ]
  },
  {
   "cell_type": "code",
   "execution_count": 37,
   "metadata": {},
   "outputs": [
    {
     "data": {
      "text/plain": [
       "2×2 Array{Float64,2}:\n",
       " -7.5693e-7   0.0     \n",
       "  0.0        -0.999999"
      ]
     },
     "execution_count": 37,
     "metadata": {},
     "output_type": "execute_result"
    }
   ],
   "source": [
    "hessian(x -> sin(x[1]) + cos(x[2]), [0.0, 0.0])"
   ]
  },
  {
   "cell_type": "code",
   "execution_count": 35,
   "metadata": {},
   "outputs": [
    {
     "data": {
      "text/plain": [
       "MyHessian (generic function with 1 method)"
      ]
     },
     "execution_count": 35,
     "metadata": {},
     "output_type": "execute_result"
    }
   ],
   "source": [
    "function MyHessian(funk::Function, x::Number)\n",
    "    k=0\n",
    "    lam=10^4\n",
    "    xdokplus1 = x^k - [Calculus.gradient(Calculus.gradient(funk,x^k))+lam^k]^(-1) * Calculus.gradient(funk,x^k)\n",
    "end"
   ]
  },
  {
   "cell_type": "code",
   "execution_count": 120,
   "metadata": {},
   "outputs": [
    {
     "ename": "LoadError",
     "evalue": "syntax: incomplete: unterminated multi-line comment #= ... =#",
     "output_type": "error",
     "traceback": [
      "syntax: incomplete: unterminated multi-line comment #= ... =#",
      ""
     ]
    }
   ],
   "source": [
    "#=\n",
    "\n",
    "BACKUP!!!\n",
    "\n",
    "#krok 4\n",
    "                #hesjan = Calculus.hessian(funk,[x1[1],x1[2]])\n",
    "        #=\n",
    "                gradient = Calculus.gradient(funk,[x1[1]^k,x1[2]^k])\n",
    "                gradient2 = Calculus.gradient(funk,gradient)\n",
    "                x1dokplus1 = x1[1]^k - (gradient2[1]+lam^k)^(-1) * gradient[1]\n",
    "                x2dokplus1 = x1[2]^k - (gradient2[2]+lam^k)^(-1) * gradient[2]\n",
    "        =#\n",
    "\n",
    "        \n",
    "                #x2dokplus1 = x1[2]^k - (Calculus.gradient(Calculus.gradient(funk,[x1[1]^k,x1[2]^k]))+lam^k)^(-1) * Calculus.gradient(funk,[x1[1]^k,x1[2]^k])\n",
    "                test = x1[1]^k\n",
    "                #ka = funk(x1^k)\n",
    "                #kaplus1 = funk(x1^(k+1))\n",
    "\n",
    "\n",
    "\n",
    "        norma = LinearAlgebra.norm(Grad)\n",
    "        if norma <= E\n",
    "            print(\"norma mniejsz/równa  E\")\n",
    "            return norma\n",
    "        end\n",
    "        if k >= M\n",
    "            print(\"przekroczono limit iteracji\")\n",
    "            return norma\n",
    "        end\n",
    "\n",
    "\n",
    "\n",
    "\n",
    "        \n",
    "        if funk(x1dokplus1) < funk([x1[1]^k,x1[2]^k])\n",
    "            #krok 6\n",
    "            lam = 1/2 * lam\n",
    "            k=k+1\n",
    "            #powrot do kroku 2\n",
    "        else\n",
    "            #krok 7\n",
    "            lam = 2 * lam\n",
    "            #powrot do kroku 4\n",
    "        end\n",
    "\n",
    "\n",
    "\n",
    "\n",
    "\n",
    "\n",
    "#=\n",
    "function krok6(funk::Function, x1::Array)\n",
    "    global k\n",
    "    global E\n",
    "    global M\n",
    "    #krok 2\n",
    "    Grad = krok2(funk,x1,k)\n",
    "\n",
    "    #krok 3\n",
    "    tbc = krok3(Grad,E,k,M)\n",
    "    if tbc == 1\n",
    "        return Grad\n",
    "    end\n",
    "\n",
    "    #krok 4\n",
    "    x1dokplus1=krok4(funk,x1,k,lam)\n",
    "    return x1dokplus1\n",
    "end\n",
    "\n",
    "function krok7()\n",
    "    return 0\n",
    "end\n",
    "=#"
   ]
  },
  {
   "cell_type": "code",
   "execution_count": 74,
   "metadata": {},
   "outputs": [
    {
     "name": "stdout",
     "output_type": "stream",
     "text": [
      "search: \u001b[0m\u001b[1mh\u001b[22m\u001b[0m\u001b[1me\u001b[22m\u001b[0m\u001b[1ms\u001b[22m\u001b[0m\u001b[1ms\u001b[22m\u001b[0m\u001b[1mi\u001b[22m\u001b[0m\u001b[1ma\u001b[22m\u001b[0m\u001b[1mn\u001b[22m My\u001b[0m\u001b[1mH\u001b[22m\u001b[0m\u001b[1me\u001b[22m\u001b[0m\u001b[1ms\u001b[22m\u001b[0m\u001b[1ms\u001b[22m\u001b[0m\u001b[1mi\u001b[22m\u001b[0m\u001b[1ma\u001b[22m\u001b[0m\u001b[1mn\u001b[22m c\u001b[0m\u001b[1mh\u001b[22m\u001b[0m\u001b[1me\u001b[22mck_he\u001b[0m\u001b[1ms\u001b[22m\u001b[0m\u001b[1ms\u001b[22m\u001b[0m\u001b[1mi\u001b[22m\u001b[0m\u001b[1ma\u001b[22m\u001b[0m\u001b[1mn\u001b[22m\n",
      "\n"
     ]
    },
    {
     "data": {
      "text/latex": [
       "No documentation found.\n",
       "\n",
       "\\texttt{Calculus.hessian} is a \\texttt{Function}.\n",
       "\n",
       "\\begin{verbatim}\n",
       "# 9 methods for generic function \"hessian\":\n",
       "[1] hessian(f) in Calculus at /home/jrun/.julia/packages/Calculus/2qBLt/src/derivative.jl:97\n",
       "[2] hessian(f, x::Number) in Calculus at /home/jrun/.julia/packages/Calculus/2qBLt/src/derivative.jl:84\n",
       "[3] hessian(f, x::Array{T,1}) where T<:Number in Calculus at /home/jrun/.julia/packages/Calculus/2qBLt/src/derivative.jl:90\n",
       "[4] hessian(f, g) in Calculus at /home/jrun/.julia/packages/Calculus/2qBLt/src/derivative.jl:96\n",
       "[5] hessian(f, g, x::Union{Array{T,1}, T}) where T<:Number in Calculus at /home/jrun/.julia/packages/Calculus/2qBLt/src/derivative.jl:66\n",
       "[6] hessian(f, g, x::Union{Array{T,1}, T}, dtype::Symbol) where T<:Number in Calculus at /home/jrun/.julia/packages/Calculus/2qBLt/src/derivative.jl:60\n",
       "[7] hessian(f, x::Number, dtype::Symbol) in Calculus at /home/jrun/.julia/packages/Calculus/2qBLt/src/derivative.jl:72\n",
       "[8] hessian(f, x::Array{T,1}, dtype::Symbol) where T<:Number in Calculus at /home/jrun/.julia/packages/Calculus/2qBLt/src/derivative.jl:78\n",
       "[9] hessian(f, g, dtype::Symbol) in Calculus at /home/jrun/.julia/packages/Calculus/2qBLt/src/derivative.jl:95\n",
       "\\end{verbatim}\n"
      ],
      "text/markdown": [
       "No documentation found.\n",
       "\n",
       "`Calculus.hessian` is a `Function`.\n",
       "\n",
       "```\n",
       "# 9 methods for generic function \"hessian\":\n",
       "[1] hessian(f) in Calculus at /home/jrun/.julia/packages/Calculus/2qBLt/src/derivative.jl:97\n",
       "[2] hessian(f, x::Number) in Calculus at /home/jrun/.julia/packages/Calculus/2qBLt/src/derivative.jl:84\n",
       "[3] hessian(f, x::Array{T,1}) where T<:Number in Calculus at /home/jrun/.julia/packages/Calculus/2qBLt/src/derivative.jl:90\n",
       "[4] hessian(f, g) in Calculus at /home/jrun/.julia/packages/Calculus/2qBLt/src/derivative.jl:96\n",
       "[5] hessian(f, g, x::Union{Array{T,1}, T}) where T<:Number in Calculus at /home/jrun/.julia/packages/Calculus/2qBLt/src/derivative.jl:66\n",
       "[6] hessian(f, g, x::Union{Array{T,1}, T}, dtype::Symbol) where T<:Number in Calculus at /home/jrun/.julia/packages/Calculus/2qBLt/src/derivative.jl:60\n",
       "[7] hessian(f, x::Number, dtype::Symbol) in Calculus at /home/jrun/.julia/packages/Calculus/2qBLt/src/derivative.jl:72\n",
       "[8] hessian(f, x::Array{T,1}, dtype::Symbol) where T<:Number in Calculus at /home/jrun/.julia/packages/Calculus/2qBLt/src/derivative.jl:78\n",
       "[9] hessian(f, g, dtype::Symbol) in Calculus at /home/jrun/.julia/packages/Calculus/2qBLt/src/derivative.jl:95\n",
       "```\n"
      ],
      "text/plain": [
       "  No documentation found.\n",
       "\n",
       "  \u001b[36mCalculus.hessian\u001b[39m is a \u001b[36mFunction\u001b[39m.\n",
       "\n",
       "\u001b[36m  # 9 methods for generic function \"hessian\":\u001b[39m\n",
       "\u001b[36m  [1] hessian(f) in Calculus at /home/jrun/.julia/packages/Calculus/2qBLt/src/derivative.jl:97\u001b[39m\n",
       "\u001b[36m  [2] hessian(f, x::Number) in Calculus at /home/jrun/.julia/packages/Calculus/2qBLt/src/derivative.jl:84\u001b[39m\n",
       "\u001b[36m  [3] hessian(f, x::Array{T,1}) where T<:Number in Calculus at /home/jrun/.julia/packages/Calculus/2qBLt/src/derivative.jl:90\u001b[39m\n",
       "\u001b[36m  [4] hessian(f, g) in Calculus at /home/jrun/.julia/packages/Calculus/2qBLt/src/derivative.jl:96\u001b[39m\n",
       "\u001b[36m  [5] hessian(f, g, x::Union{Array{T,1}, T}) where T<:Number in Calculus at /home/jrun/.julia/packages/Calculus/2qBLt/src/derivative.jl:66\u001b[39m\n",
       "\u001b[36m  [6] hessian(f, g, x::Union{Array{T,1}, T}, dtype::Symbol) where T<:Number in Calculus at /home/jrun/.julia/packages/Calculus/2qBLt/src/derivative.jl:60\u001b[39m\n",
       "\u001b[36m  [7] hessian(f, x::Number, dtype::Symbol) in Calculus at /home/jrun/.julia/packages/Calculus/2qBLt/src/derivative.jl:72\u001b[39m\n",
       "\u001b[36m  [8] hessian(f, x::Array{T,1}, dtype::Symbol) where T<:Number in Calculus at /home/jrun/.julia/packages/Calculus/2qBLt/src/derivative.jl:78\u001b[39m\n",
       "\u001b[36m  [9] hessian(f, g, dtype::Symbol) in Calculus at /home/jrun/.julia/packages/Calculus/2qBLt/src/derivative.jl:95\u001b[39m"
      ]
     },
     "execution_count": 74,
     "metadata": {},
     "output_type": "execute_result"
    }
   ],
   "source": [
    "?hessian"
   ]
  },
  {
   "cell_type": "code",
   "execution_count": null,
   "metadata": {},
   "outputs": [],
   "source": []
  }
 ],
 "metadata": {
  "kernelspec": {
   "display_name": "Julia 1.0.3 (4 threads)",
   "language": "julia",
   "name": "julia-1.0k"
  },
  "language_info": {
   "file_extension": ".jl",
   "mimetype": "application/julia",
   "name": "julia",
   "version": "1.0.3"
  }
 },
 "nbformat": 4,
 "nbformat_minor": 2
}
